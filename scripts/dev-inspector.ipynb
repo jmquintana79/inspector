{
 "cells": [
  {
   "cell_type": "markdown",
   "metadata": {},
   "source": [
    "# Development: Inspector tool"
   ]
  },
  {
   "cell_type": "code",
   "execution_count": 142,
   "metadata": {},
   "outputs": [],
   "source": [
    "import os\n",
    "import inspect\n",
    "import pandas"
   ]
  },
  {
   "cell_type": "code",
   "execution_count": 119,
   "metadata": {},
   "outputs": [],
   "source": [
    "def f(a=2, b=1):\n",
    "    return a + b"
   ]
  },
  {
   "cell_type": "code",
   "execution_count": 10,
   "metadata": {},
   "outputs": [],
   "source": [
    "class c:\n",
    "    def __init__(self, a):\n",
    "        self.a = a\n",
    "    def m(self):\n",
    "        return a**2"
   ]
  },
  {
   "cell_type": "code",
   "execution_count": 62,
   "metadata": {},
   "outputs": [
    {
     "data": {
      "text/plain": [
       "['ArgInfo',\n",
       " 'ArgSpec',\n",
       " 'Arguments',\n",
       " 'Attribute',\n",
       " 'BlockFinder',\n",
       " 'BoundArguments',\n",
       " 'CORO_CLOSED',\n",
       " 'CORO_CREATED',\n",
       " 'CORO_RUNNING',\n",
       " 'CORO_SUSPENDED',\n",
       " 'CO_ASYNC_GENERATOR',\n",
       " 'CO_COROUTINE',\n",
       " 'CO_GENERATOR',\n",
       " 'CO_ITERABLE_COROUTINE',\n",
       " 'CO_NESTED',\n",
       " 'CO_NEWLOCALS',\n",
       " 'CO_NOFREE',\n",
       " 'CO_OPTIMIZED',\n",
       " 'CO_VARARGS',\n",
       " 'CO_VARKEYWORDS',\n",
       " 'ClosureVars',\n",
       " 'EndOfBlock',\n",
       " 'FrameInfo',\n",
       " 'FullArgSpec',\n",
       " 'GEN_CLOSED',\n",
       " 'GEN_CREATED',\n",
       " 'GEN_RUNNING',\n",
       " 'GEN_SUSPENDED',\n",
       " 'OrderedDict',\n",
       " 'Parameter',\n",
       " 'Signature',\n",
       " 'TPFLAGS_IS_ABSTRACT',\n",
       " 'Traceback',\n",
       " '_ClassMethodWrapper',\n",
       " '_KEYWORD_ONLY',\n",
       " '_MethodWrapper',\n",
       " '_NonUserDefinedCallables',\n",
       " '_PARAM_NAME_MAPPING',\n",
       " '_POSITIONAL_ONLY',\n",
       " '_POSITIONAL_OR_KEYWORD',\n",
       " '_ParameterKind',\n",
       " '_VAR_KEYWORD',\n",
       " '_VAR_POSITIONAL',\n",
       " '_WrapperDescriptor',\n",
       " '__author__',\n",
       " '__builtins__',\n",
       " '__cached__',\n",
       " '__doc__',\n",
       " '__file__',\n",
       " '__loader__',\n",
       " '__name__',\n",
       " '__package__',\n",
       " '__spec__',\n",
       " '_check_class',\n",
       " '_check_instance',\n",
       " '_empty',\n",
       " '_filesbymodname',\n",
       " '_findclass',\n",
       " '_finddoc',\n",
       " '_get_paramkind_descr',\n",
       " '_getfullargs',\n",
       " '_is_type',\n",
       " '_main',\n",
       " '_missing_arguments',\n",
       " '_sentinel',\n",
       " '_shadowed_dict',\n",
       " '_signature_bound_method',\n",
       " '_signature_from_builtin',\n",
       " '_signature_from_callable',\n",
       " '_signature_from_function',\n",
       " '_signature_fromstr',\n",
       " '_signature_get_bound_param',\n",
       " '_signature_get_partial',\n",
       " '_signature_get_user_defined_method',\n",
       " '_signature_is_builtin',\n",
       " '_signature_is_functionlike',\n",
       " '_signature_strip_non_python_syntax',\n",
       " '_static_getmro',\n",
       " '_too_many',\n",
       " '_void',\n",
       " 'abc',\n",
       " 'attrgetter',\n",
       " 'builtins',\n",
       " 'classify_class_attrs',\n",
       " 'cleandoc',\n",
       " 'collections',\n",
       " 'currentframe',\n",
       " 'dis',\n",
       " 'enum',\n",
       " 'findsource',\n",
       " 'formatannotation',\n",
       " 'formatannotationrelativeto',\n",
       " 'formatargspec',\n",
       " 'formatargvalues',\n",
       " 'functools',\n",
       " 'getabsfile',\n",
       " 'getargs',\n",
       " 'getargspec',\n",
       " 'getargvalues',\n",
       " 'getattr_static',\n",
       " 'getblock',\n",
       " 'getcallargs',\n",
       " 'getclasstree',\n",
       " 'getclosurevars',\n",
       " 'getcomments',\n",
       " 'getcoroutinelocals',\n",
       " 'getcoroutinestate',\n",
       " 'getdoc',\n",
       " 'getfile',\n",
       " 'getframeinfo',\n",
       " 'getfullargspec',\n",
       " 'getgeneratorlocals',\n",
       " 'getgeneratorstate',\n",
       " 'getinnerframes',\n",
       " 'getlineno',\n",
       " 'getmembers',\n",
       " 'getmodule',\n",
       " 'getmodulename',\n",
       " 'getmro',\n",
       " 'getouterframes',\n",
       " 'getsource',\n",
       " 'getsourcefile',\n",
       " 'getsourcelines',\n",
       " 'importlib',\n",
       " 'indentsize',\n",
       " 'isabstract',\n",
       " 'isasyncgen',\n",
       " 'isasyncgenfunction',\n",
       " 'isawaitable',\n",
       " 'isbuiltin',\n",
       " 'isclass',\n",
       " 'iscode',\n",
       " 'iscoroutine',\n",
       " 'iscoroutinefunction',\n",
       " 'isdatadescriptor',\n",
       " 'isframe',\n",
       " 'isfunction',\n",
       " 'isgenerator',\n",
       " 'isgeneratorfunction',\n",
       " 'isgetsetdescriptor',\n",
       " 'ismemberdescriptor',\n",
       " 'ismethod',\n",
       " 'ismethoddescriptor',\n",
       " 'ismodule',\n",
       " 'isroutine',\n",
       " 'istraceback',\n",
       " 'itertools',\n",
       " 'k',\n",
       " 'linecache',\n",
       " 'mod_dict',\n",
       " 'modulesbyfile',\n",
       " 'namedtuple',\n",
       " 'os',\n",
       " 're',\n",
       " 'signature',\n",
       " 'stack',\n",
       " 'sys',\n",
       " 'token',\n",
       " 'tokenize',\n",
       " 'trace',\n",
       " 'types',\n",
       " 'unwrap',\n",
       " 'v',\n",
       " 'walktree',\n",
       " 'warnings']"
      ]
     },
     "execution_count": 62,
     "metadata": {},
     "output_type": "execute_result"
    }
   ],
   "source": [
    "dir(inspect)\n",
    "\n"
   ]
  },
  {
   "cell_type": "code",
   "execution_count": 126,
   "metadata": {},
   "outputs": [],
   "source": [
    "def whatitis(x):\n",
    "    print(type(x))\n",
    "    if inspect.isabstract(x): print( 'isabstract')\n",
    "    if inspect.isasyncgen(x): print( 'isasyncgen')\n",
    "    if inspect.isasyncgenfunction(x): print( 'isasyncgenfunction')\n",
    "    if inspect.isawaitable(x): print( 'isawaitable')\n",
    "    if inspect.isbuiltin(x): print( 'isbuiltin')\n",
    "    if inspect.isclass(x): print( 'isclass')\n",
    "    if inspect.iscode(x): print( 'iscode')\n",
    "    if inspect.iscoroutine(x): print( 'iscoroutine')\n",
    "    if inspect.iscoroutinefunction(x): print( 'iscoroutinefunction')\n",
    "    if inspect.isdatadescriptor(x): print( 'isdatadescriptor')\n",
    "    if inspect.isframe(x): print( 'isframe')\n",
    "    if inspect.isfunction(x): print( 'isfunction')\n",
    "    if inspect.isgenerator(x): print( 'isgenerator')\n",
    "    if inspect.isgeneratorfunction(x): print( 'isgeneratorfunction')\n",
    "    if inspect.isgetsetdescriptor(x): print( 'isgetsetdescriptor')\n",
    "    if inspect.ismemberdescriptor(x): print( 'ismemberdescriptor')\n",
    "    if inspect.ismethod(x): print( 'ismethod')\n",
    "    if inspect.ismethoddescriptor(x): print( 'ismethoddescriptor')\n",
    "    if inspect.ismodule(x): print( 'ismodule')\n",
    "    if inspect.isroutine(x): print( 'isroutine')\n",
    "    if inspect.istraceback(x): print( 'istraceback')"
   ]
  },
  {
   "cell_type": "code",
   "execution_count": 8,
   "metadata": {},
   "outputs": [
    {
     "name": "stdout",
     "output_type": "stream",
     "text": [
      "isfunction\n",
      "isroutine\n"
     ]
    }
   ],
   "source": [
    "whatitis(f)"
   ]
  },
  {
   "cell_type": "code",
   "execution_count": 13,
   "metadata": {},
   "outputs": [
    {
     "name": "stdout",
     "output_type": "stream",
     "text": [
      "isclass\n"
     ]
    }
   ],
   "source": [
    "whatitis(c)"
   ]
  },
  {
   "cell_type": "code",
   "execution_count": 27,
   "metadata": {},
   "outputs": [
    {
     "name": "stdout",
     "output_type": "stream",
     "text": [
      "isfunction\n",
      "isroutine\n"
     ]
    }
   ],
   "source": [
    "whatitis(c.m)"
   ]
  },
  {
   "cell_type": "code",
   "execution_count": 74,
   "metadata": {},
   "outputs": [
    {
     "name": "stdout",
     "output_type": "stream",
     "text": [
      "altsep\n",
      "curdir\n",
      "pardir\n",
      "sep\n",
      "pathsep\n",
      "linesep\n"
     ]
    }
   ],
   "source": [
    "for i in os.__all__[:6]:\n",
    "    print(i)"
   ]
  },
  {
   "cell_type": "code",
   "execution_count": 80,
   "metadata": {},
   "outputs": [
    {
     "data": {
      "text/plain": [
       "(None, str)"
      ]
     },
     "execution_count": 80,
     "metadata": {},
     "output_type": "execute_result"
    }
   ],
   "source": [
    "whatitis(os.pathsep), type(os.pathsep)"
   ]
  },
  {
   "cell_type": "code",
   "execution_count": 89,
   "metadata": {},
   "outputs": [
    {
     "data": {
      "text/plain": [
       "\"Return a list containing the names of the files in the directory.\\n\\npath can be specified as either str or bytes.  If path is bytes,\\n  the filenames returned will also be bytes; in all other circumstances\\n  the filenames returned will be str.\\nIf path is None, uses the path='.'.\\nOn some platforms, path may also be specified as an open file descriptor;\\\\\\n  the file descriptor must refer to a directory.\\n  If this functionality is unavailable, using it raises NotImplementedError.\\n\\nThe list is in arbitrary order.  It does not include the special\\nentries '.' and '..' even if they are present in the directory.\""
      ]
     },
     "execution_count": 89,
     "metadata": {},
     "output_type": "execute_result"
    }
   ],
   "source": [
    "ld = inspect.getdoc(os.listdir)\n",
    "ld"
   ]
  },
  {
   "cell_type": "code",
   "execution_count": 90,
   "metadata": {},
   "outputs": [
    {
     "data": {
      "text/plain": [
       "'Recursive helper function for getclasstree().'"
      ]
     },
     "execution_count": 90,
     "metadata": {},
     "output_type": "execute_result"
    }
   ],
   "source": [
    "inspect.getdoc(inspect.walktree)"
   ]
  },
  {
   "cell_type": "code",
   "execution_count": 152,
   "metadata": {},
   "outputs": [
    {
     "name": "stderr",
     "output_type": "stream",
     "text": [
      "/Users/admin/miniconda3/lib/python3.7/site-packages/ipykernel_launcher.py:2: DeprecationWarning: inspect.getargspec() is deprecated, use inspect.signature() or inspect.getfullargspec()\n",
      "  \n"
     ]
    },
    {
     "data": {
      "text/plain": [
       "ArgSpec(args=['a', 'b'], varargs=None, keywords=None, defaults=(2, 1))"
      ]
     },
     "execution_count": 152,
     "metadata": {},
     "output_type": "execute_result"
    }
   ],
   "source": [
    "# get arguments of functions\n",
    "a = inspect.getargspec(f) \n",
    "a"
   ]
  },
  {
   "cell_type": "code",
   "execution_count": 157,
   "metadata": {},
   "outputs": [
    {
     "name": "stderr",
     "output_type": "stream",
     "text": [
      "/Users/admin/miniconda3/lib/python3.7/site-packages/ipykernel_launcher.py:1: DeprecationWarning: inspect.getargspec() is deprecated, use inspect.signature() or inspect.getfullargspec()\n",
      "  \"\"\"Entry point for launching an IPython kernel.\n"
     ]
    },
    {
     "data": {
      "text/plain": [
       "ArgSpec(args=['start', 'end', 'periods', 'freq', 'tz', 'normalize', 'name', 'closed'], varargs=None, keywords='kwargs', defaults=(None, None, None, None, None, False, None, None))"
      ]
     },
     "execution_count": 157,
     "metadata": {},
     "output_type": "execute_result"
    }
   ],
   "source": [
    "inspect.getargspec(pandas.date_range)"
   ]
  },
  {
   "cell_type": "code",
   "execution_count": 158,
   "metadata": {},
   "outputs": [
    {
     "name": "stdout",
     "output_type": "stream",
     "text": [
      "Help on function date_range in module pandas.core.indexes.datetimes:\n",
      "\n",
      "date_range(start=None, end=None, periods=None, freq=None, tz=None, normalize=False, name=None, closed=None, **kwargs)\n",
      "    Return a fixed frequency DatetimeIndex.\n",
      "    \n",
      "    Parameters\n",
      "    ----------\n",
      "    start : str or datetime-like, optional\n",
      "        Left bound for generating dates.\n",
      "    end : str or datetime-like, optional\n",
      "        Right bound for generating dates.\n",
      "    periods : integer, optional\n",
      "        Number of periods to generate.\n",
      "    freq : str or DateOffset, default 'D' (calendar daily)\n",
      "        Frequency strings can have multiples, e.g. '5H'. See\n",
      "        :ref:`here <timeseries.offset_aliases>` for a list of\n",
      "        frequency aliases.\n",
      "    tz : str or tzinfo, optional\n",
      "        Time zone name for returning localized DatetimeIndex, for example\n",
      "        'Asia/Hong_Kong'. By default, the resulting DatetimeIndex is\n",
      "        timezone-naive.\n",
      "    normalize : bool, default False\n",
      "        Normalize start/end dates to midnight before generating date range.\n",
      "    name : str, default None\n",
      "        Name of the resulting DatetimeIndex.\n",
      "    closed : {None, 'left', 'right'}, optional\n",
      "        Make the interval closed with respect to the given frequency to\n",
      "        the 'left', 'right', or both sides (None, the default).\n",
      "    **kwargs\n",
      "        For compatibility. Has no effect on the result.\n",
      "    \n",
      "    Returns\n",
      "    -------\n",
      "    rng : DatetimeIndex\n",
      "    \n",
      "    See Also\n",
      "    --------\n",
      "    pandas.DatetimeIndex : An immutable container for datetimes.\n",
      "    pandas.timedelta_range : Return a fixed frequency TimedeltaIndex.\n",
      "    pandas.period_range : Return a fixed frequency PeriodIndex.\n",
      "    pandas.interval_range : Return a fixed frequency IntervalIndex.\n",
      "    \n",
      "    Notes\n",
      "    -----\n",
      "    Of the four parameters ``start``, ``end``, ``periods``, and ``freq``,\n",
      "    exactly three must be specified. If ``freq`` is omitted, the resulting\n",
      "    ``DatetimeIndex`` will have ``periods`` linearly spaced elements between\n",
      "    ``start`` and ``end`` (closed on both sides).\n",
      "    \n",
      "    To learn more about the frequency strings, please see `this link\n",
      "    <http://pandas.pydata.org/pandas-docs/stable/timeseries.html#offset-aliases>`__.\n",
      "    \n",
      "    Examples\n",
      "    --------\n",
      "    **Specifying the values**\n",
      "    \n",
      "    The next four examples generate the same `DatetimeIndex`, but vary\n",
      "    the combination of `start`, `end` and `periods`.\n",
      "    \n",
      "    Specify `start` and `end`, with the default daily frequency.\n",
      "    \n",
      "    >>> pd.date_range(start='1/1/2018', end='1/08/2018')\n",
      "    DatetimeIndex(['2018-01-01', '2018-01-02', '2018-01-03', '2018-01-04',\n",
      "                   '2018-01-05', '2018-01-06', '2018-01-07', '2018-01-08'],\n",
      "                  dtype='datetime64[ns]', freq='D')\n",
      "    \n",
      "    Specify `start` and `periods`, the number of periods (days).\n",
      "    \n",
      "    >>> pd.date_range(start='1/1/2018', periods=8)\n",
      "    DatetimeIndex(['2018-01-01', '2018-01-02', '2018-01-03', '2018-01-04',\n",
      "                   '2018-01-05', '2018-01-06', '2018-01-07', '2018-01-08'],\n",
      "                  dtype='datetime64[ns]', freq='D')\n",
      "    \n",
      "    Specify `end` and `periods`, the number of periods (days).\n",
      "    \n",
      "    >>> pd.date_range(end='1/1/2018', periods=8)\n",
      "    DatetimeIndex(['2017-12-25', '2017-12-26', '2017-12-27', '2017-12-28',\n",
      "                   '2017-12-29', '2017-12-30', '2017-12-31', '2018-01-01'],\n",
      "                  dtype='datetime64[ns]', freq='D')\n",
      "    \n",
      "    Specify `start`, `end`, and `periods`; the frequency is generated\n",
      "    automatically (linearly spaced).\n",
      "    \n",
      "    >>> pd.date_range(start='2018-04-24', end='2018-04-27', periods=3)\n",
      "    DatetimeIndex(['2018-04-24 00:00:00', '2018-04-25 12:00:00',\n",
      "                   '2018-04-27 00:00:00'], freq=None)\n",
      "    \n",
      "    **Other Parameters**\n",
      "    \n",
      "    Changed the `freq` (frequency) to ``'M'`` (month end frequency).\n",
      "    \n",
      "    >>> pd.date_range(start='1/1/2018', periods=5, freq='M')\n",
      "    DatetimeIndex(['2018-01-31', '2018-02-28', '2018-03-31', '2018-04-30',\n",
      "                   '2018-05-31'],\n",
      "                  dtype='datetime64[ns]', freq='M')\n",
      "    \n",
      "    Multiples are allowed\n",
      "    \n",
      "    >>> pd.date_range(start='1/1/2018', periods=5, freq='3M')\n",
      "    DatetimeIndex(['2018-01-31', '2018-04-30', '2018-07-31', '2018-10-31',\n",
      "                   '2019-01-31'],\n",
      "                  dtype='datetime64[ns]', freq='3M')\n",
      "    \n",
      "    `freq` can also be specified as an Offset object.\n",
      "    \n",
      "    >>> pd.date_range(start='1/1/2018', periods=5, freq=pd.offsets.MonthEnd(3))\n",
      "    DatetimeIndex(['2018-01-31', '2018-04-30', '2018-07-31', '2018-10-31',\n",
      "                   '2019-01-31'],\n",
      "                  dtype='datetime64[ns]', freq='3M')\n",
      "    \n",
      "    Specify `tz` to set the timezone.\n",
      "    \n",
      "    >>> pd.date_range(start='1/1/2018', periods=5, tz='Asia/Tokyo')\n",
      "    DatetimeIndex(['2018-01-01 00:00:00+09:00', '2018-01-02 00:00:00+09:00',\n",
      "                   '2018-01-03 00:00:00+09:00', '2018-01-04 00:00:00+09:00',\n",
      "                   '2018-01-05 00:00:00+09:00'],\n",
      "                  dtype='datetime64[ns, Asia/Tokyo]', freq='D')\n",
      "    \n",
      "    `closed` controls whether to include `start` and `end` that are on the\n",
      "    boundary. The default includes boundary points on either end.\n",
      "    \n",
      "    >>> pd.date_range(start='2017-01-01', end='2017-01-04', closed=None)\n",
      "    DatetimeIndex(['2017-01-01', '2017-01-02', '2017-01-03', '2017-01-04'],\n",
      "                  dtype='datetime64[ns]', freq='D')\n",
      "    \n",
      "    Use ``closed='left'`` to exclude `end` if it falls on the boundary.\n",
      "    \n",
      "    >>> pd.date_range(start='2017-01-01', end='2017-01-04', closed='left')\n",
      "    DatetimeIndex(['2017-01-01', '2017-01-02', '2017-01-03'],\n",
      "                  dtype='datetime64[ns]', freq='D')\n",
      "    \n",
      "    Use ``closed='right'`` to exclude `start` if it falls on the boundary.\n",
      "    \n",
      "    >>> pd.date_range(start='2017-01-01', end='2017-01-04', closed='right')\n",
      "    DatetimeIndex(['2017-01-02', '2017-01-03', '2017-01-04'],\n",
      "                  dtype='datetime64[ns]', freq='D')\n",
      "\n"
     ]
    }
   ],
   "source": [
    "help(pandas.date_range)"
   ]
  },
  {
   "cell_type": "code",
   "execution_count": 165,
   "metadata": {},
   "outputs": [
    {
     "data": {
      "text/plain": [
       "\"Return a fixed frequency DatetimeIndex.\\n\\nParameters\\n----------\\nstart : str or datetime-like, optional\\n    Left bound for generating dates.\\nend : str or datetime-like, optional\\n    Right bound for generating dates.\\nperiods : integer, optional\\n    Number of periods to generate.\\nfreq : str or DateOffset, default 'D' (calendar daily)\\n    Frequency strings can have multiples, e.g. '5H'. See\\n    :ref:`here <timeseries.offset_aliases>` for a list of\\n    frequency aliases.\\ntz : str or tzinfo, optional\\n    Time zone name for returning localized DatetimeIndex, for example\\n    'Asia/Hong_Kong'. By default, the resulting DatetimeIndex is\\n    timezone-naive.\\nnormalize : bool, default False\\n    Normalize start/end dates to midnight before generating date range.\\nname : str, default None\\n    Name of the resulting DatetimeIndex.\\nclosed : {None, 'left', 'right'}, optional\\n    Make the interval closed with respect to the given frequency to\\n    the 'left', 'right', or both sides (None, the default).\\n**kwargs\\n    For compatibility. Has no effect on the result.\\n\\nReturns\\n-------\\nrng : DatetimeIndex\\n\\nSee Also\\n--------\\npandas.DatetimeIndex : An immutable container for datetimes.\\npandas.timedelta_range : Return a fixed frequency TimedeltaIndex.\\npandas.period_range : Return a fixed frequency PeriodIndex.\\npandas.interval_range : Return a fixed frequency IntervalIndex.\\n\\nNotes\\n-----\\nOf the four parameters ``start``, ``end``, ``periods``, and ``freq``,\\nexactly three must be specified. If ``freq`` is omitted, the resulting\\n``DatetimeIndex`` will have ``periods`` linearly spaced elements between\\n``start`` and ``end`` (closed on both sides).\\n\\nTo learn more about the frequency strings, please see `this link\\n<http://pandas.pydata.org/pandas-docs/stable/timeseries.html#offset-aliases>`__.\\n\\nExamples\\n--------\\n**Specifying the values**\\n\\nThe next four examples generate the same `DatetimeIndex`, but vary\\nthe combination of `start`, `end` and `periods`.\\n\\nSpecify `start` and `end`, with the default daily frequency.\\n\\n>>> pd.date_range(start='1/1/2018', end='1/08/2018')\\nDatetimeIndex(['2018-01-01', '2018-01-02', '2018-01-03', '2018-01-04',\\n               '2018-01-05', '2018-01-06', '2018-01-07', '2018-01-08'],\\n              dtype='datetime64[ns]', freq='D')\\n\\nSpecify `start` and `periods`, the number of periods (days).\\n\\n>>> pd.date_range(start='1/1/2018', periods=8)\\nDatetimeIndex(['2018-01-01', '2018-01-02', '2018-01-03', '2018-01-04',\\n               '2018-01-05', '2018-01-06', '2018-01-07', '2018-01-08'],\\n              dtype='datetime64[ns]', freq='D')\\n\\nSpecify `end` and `periods`, the number of periods (days).\\n\\n>>> pd.date_range(end='1/1/2018', periods=8)\\nDatetimeIndex(['2017-12-25', '2017-12-26', '2017-12-27', '2017-12-28',\\n               '2017-12-29', '2017-12-30', '2017-12-31', '2018-01-01'],\\n              dtype='datetime64[ns]', freq='D')\\n\\nSpecify `start`, `end`, and `periods`; the frequency is generated\\nautomatically (linearly spaced).\\n\\n>>> pd.date_range(start='2018-04-24', end='2018-04-27', periods=3)\\nDatetimeIndex(['2018-04-24 00:00:00', '2018-04-25 12:00:00',\\n               '2018-04-27 00:00:00'], freq=None)\\n\\n**Other Parameters**\\n\\nChanged the `freq` (frequency) to ``'M'`` (month end frequency).\\n\\n>>> pd.date_range(start='1/1/2018', periods=5, freq='M')\\nDatetimeIndex(['2018-01-31', '2018-02-28', '2018-03-31', '2018-04-30',\\n               '2018-05-31'],\\n              dtype='datetime64[ns]', freq='M')\\n\\nMultiples are allowed\\n\\n>>> pd.date_range(start='1/1/2018', periods=5, freq='3M')\\nDatetimeIndex(['2018-01-31', '2018-04-30', '2018-07-31', '2018-10-31',\\n               '2019-01-31'],\\n              dtype='datetime64[ns]', freq='3M')\\n\\n`freq` can also be specified as an Offset object.\\n\\n>>> pd.date_range(start='1/1/2018', periods=5, freq=pd.offsets.MonthEnd(3))\\nDatetimeIndex(['2018-01-31', '2018-04-30', '2018-07-31', '2018-10-31',\\n               '2019-01-31'],\\n              dtype='datetime64[ns]', freq='3M')\\n\\nSpecify `tz` to set the timezone.\\n\\n>>> pd.date_range(start='1/1/2018', periods=5, tz='Asia/Tokyo')\\nDatetimeIndex(['2018-01-01 00:00:00+09:00', '2018-01-02 00:00:00+09:00',\\n               '2018-01-03 00:00:00+09:00', '2018-01-04 00:00:00+09:00',\\n               '2018-01-05 00:00:00+09:00'],\\n              dtype='datetime64[ns, Asia/Tokyo]', freq='D')\\n\\n`closed` controls whether to include `start` and `end` that are on the\\nboundary. The default includes boundary points on either end.\\n\\n>>> pd.date_range(start='2017-01-01', end='2017-01-04', closed=None)\\nDatetimeIndex(['2017-01-01', '2017-01-02', '2017-01-03', '2017-01-04'],\\n              dtype='datetime64[ns]', freq='D')\\n\\nUse ``closed='left'`` to exclude `end` if it falls on the boundary.\\n\\n>>> pd.date_range(start='2017-01-01', end='2017-01-04', closed='left')\\nDatetimeIndex(['2017-01-01', '2017-01-02', '2017-01-03'],\\n              dtype='datetime64[ns]', freq='D')\\n\\nUse ``closed='right'`` to exclude `start` if it falls on the boundary.\\n\\n>>> pd.date_range(start='2017-01-01', end='2017-01-04', closed='right')\\nDatetimeIndex(['2017-01-02', '2017-01-03', '2017-01-04'],\\n              dtype='datetime64[ns]', freq='D')\""
      ]
     },
     "execution_count": 165,
     "metadata": {},
     "output_type": "execute_result"
    }
   ],
   "source": [
    "inspect.getdoc(pandas.date_range)"
   ]
  },
  {
   "cell_type": "code",
   "execution_count": null,
   "metadata": {},
   "outputs": [],
   "source": []
  },
  {
   "cell_type": "code",
   "execution_count": 151,
   "metadata": {},
   "outputs": [
    {
     "data": {
      "text/plain": [
       "[('Categorical', pandas.core.arrays.categorical.Categorical),\n",
       " ('CategoricalIndex', pandas.core.indexes.category.CategoricalIndex),\n",
       " ('DataFrame', pandas.core.frame.DataFrame),\n",
       " ('DateOffset', pandas.tseries.offsets.DateOffset),\n",
       " ('DatetimeIndex', pandas.core.indexes.datetimes.DatetimeIndex),\n",
       " ('ExcelFile', pandas.io.excel.ExcelFile),\n",
       " ('ExcelWriter', pandas.io.excel.ExcelWriter),\n",
       " ('Float64Index', pandas.core.indexes.numeric.Float64Index),\n",
       " ('Grouper', pandas.core.groupby.groupby.Grouper),\n",
       " ('HDFStore', pandas.io.pytables.HDFStore),\n",
       " ('Index', pandas.core.indexes.base.Index),\n",
       " ('Int64Index', pandas.core.indexes.numeric.Int64Index),\n",
       " ('Interval', pandas._libs.interval.Interval),\n",
       " ('IntervalIndex', pandas.core.indexes.interval.IntervalIndex),\n",
       " ('MultiIndex', pandas.core.indexes.multi.MultiIndex),\n",
       " ('Panel', pandas.core.panel.Panel),\n",
       " ('Period', pandas._libs.tslibs.period.Period),\n",
       " ('PeriodIndex', pandas.core.indexes.period.PeriodIndex),\n",
       " ('RangeIndex', pandas.core.indexes.range.RangeIndex),\n",
       " ('Series', pandas.core.series.Series),\n",
       " ('SparseArray', pandas.core.sparse.array.SparseArray),\n",
       " ('SparseDataFrame', pandas.core.sparse.frame.SparseDataFrame),\n",
       " ('SparseSeries', pandas.core.sparse.series.SparseSeries),\n",
       " ('TimeGrouper', pandas.core.api.TimeGrouper),\n",
       " ('Timedelta', pandas._libs.tslibs.timedeltas.Timedelta),\n",
       " ('TimedeltaIndex', pandas.core.indexes.timedeltas.TimedeltaIndex),\n",
       " ('Timestamp', pandas._libs.tslibs.timestamps.Timestamp),\n",
       " ('UInt64Index', pandas.core.indexes.numeric.UInt64Index),\n",
       " ('WidePanel', pandas.core.panel.WidePanel),\n",
       " ('datetime', datetime.datetime),\n",
       " ('option_context', pandas.core.config.option_context)]"
      ]
     },
     "execution_count": 151,
     "metadata": {},
     "output_type": "execute_result"
    }
   ],
   "source": [
    "# list of classes\n",
    "[i for i in inspect.getmembers(pandas) if inspect.isclass(i[1]) and not i[0][0] == '_']"
   ]
  },
  {
   "cell_type": "code",
   "execution_count": 149,
   "metadata": {},
   "outputs": [
    {
     "data": {
      "text/plain": [
       "[('api',\n",
       "  <module 'pandas.api' from '/Users/admin/miniconda3/lib/python3.7/site-packages/pandas/api/__init__.py'>),\n",
       " ('compat',\n",
       "  <module 'pandas.compat' from '/Users/admin/miniconda3/lib/python3.7/site-packages/pandas/compat/__init__.py'>),\n",
       " ('core',\n",
       "  <module 'pandas.core' from '/Users/admin/miniconda3/lib/python3.7/site-packages/pandas/core/__init__.py'>),\n",
       " ('errors',\n",
       "  <module 'pandas.errors' from '/Users/admin/miniconda3/lib/python3.7/site-packages/pandas/errors/__init__.py'>),\n",
       " ('io',\n",
       "  <module 'pandas.io' from '/Users/admin/miniconda3/lib/python3.7/site-packages/pandas/io/__init__.py'>),\n",
       " ('np',\n",
       "  <module 'numpy' from '/Users/admin/miniconda3/lib/python3.7/site-packages/numpy/__init__.py'>),\n",
       " ('offsets',\n",
       "  <module 'pandas.tseries.offsets' from '/Users/admin/miniconda3/lib/python3.7/site-packages/pandas/tseries/offsets.py'>),\n",
       " ('pandas',\n",
       "  <module 'pandas' from '/Users/admin/miniconda3/lib/python3.7/site-packages/pandas/__init__.py'>),\n",
       " ('plotting',\n",
       "  <module 'pandas.plotting' from '/Users/admin/miniconda3/lib/python3.7/site-packages/pandas/plotting/__init__.py'>),\n",
       " ('testing',\n",
       "  <module 'pandas.testing' from '/Users/admin/miniconda3/lib/python3.7/site-packages/pandas/testing.py'>),\n",
       " ('tools',\n",
       "  <module 'pandas.tools' from '/Users/admin/miniconda3/lib/python3.7/site-packages/pandas/tools/__init__.py'>),\n",
       " ('tseries',\n",
       "  <module 'pandas.tseries' from '/Users/admin/miniconda3/lib/python3.7/site-packages/pandas/tseries/__init__.py'>),\n",
       " ('util',\n",
       "  <module 'pandas.util' from '/Users/admin/miniconda3/lib/python3.7/site-packages/pandas/util/__init__.py'>)]"
      ]
     },
     "execution_count": 149,
     "metadata": {},
     "output_type": "execute_result"
    }
   ],
   "source": [
    "# list of modules\n",
    "[i for i in inspect.getmembers(pandas) if inspect.ismodule(i[1]) and not i[0][0] == '_']"
   ]
  },
  {
   "cell_type": "code",
   "execution_count": 150,
   "metadata": {},
   "outputs": [
    {
     "data": {
      "text/plain": [
       "[('Expr', <function pandas.core.computation.api.Expr(*args, **kwargs)>),\n",
       " ('Term', <function pandas.io.api.Term(*args, **kwargs)>),\n",
       " ('bdate_range',\n",
       "  <function pandas.core.indexes.datetimes.bdate_range(start=None, end=None, periods=None, freq='B', tz=None, normalize=True, name=None, weekmask=None, holidays=None, closed=None, **kwargs)>),\n",
       " ('concat',\n",
       "  <function pandas.core.reshape.concat.concat(objs, axis=0, join='outer', join_axes=None, ignore_index=False, keys=None, levels=None, names=None, verify_integrity=False, sort=None, copy=True)>),\n",
       " ('crosstab',\n",
       "  <function pandas.core.reshape.pivot.crosstab(index, columns, values=None, rownames=None, colnames=None, aggfunc=None, margins=False, margins_name='All', dropna=True, normalize=False)>),\n",
       " ('cut',\n",
       "  <function pandas.core.reshape.tile.cut(x, bins, right=True, labels=None, retbins=False, precision=3, include_lowest=False, duplicates='raise')>),\n",
       " ('date_range',\n",
       "  <function pandas.core.indexes.datetimes.date_range(start=None, end=None, periods=None, freq=None, tz=None, normalize=False, name=None, closed=None, **kwargs)>),\n",
       " ('eval',\n",
       "  <function pandas.core.computation.eval.eval(expr, parser='pandas', engine=None, truediv=True, local_dict=None, global_dict=None, resolvers=(), level=0, target=None, inplace=False)>),\n",
       " ('factorize',\n",
       "  <function pandas.core.algorithms.factorize(values, sort=False, order=None, na_sentinel=-1, size_hint=None)>),\n",
       " ('get_dummies',\n",
       "  <function pandas.core.reshape.reshape.get_dummies(data, prefix=None, prefix_sep='_', dummy_na=False, columns=None, sparse=False, drop_first=False, dtype=None)>),\n",
       " ('get_store', <function pandas.io.pytables.get_store(path, **kwargs)>),\n",
       " ('groupby', <function pandas.core.api.groupby(*args, **kwargs)>),\n",
       " ('infer_freq',\n",
       "  <function pandas.tseries.frequencies.infer_freq(index, warn=True)>),\n",
       " ('interval_range',\n",
       "  <function pandas.core.indexes.interval.interval_range(start=None, end=None, periods=None, freq=None, name=None, closed='right')>),\n",
       " ('isna', <function pandas.core.dtypes.missing.isna(obj)>),\n",
       " ('isnull', <function pandas.core.dtypes.missing.isna(obj)>),\n",
       " ('lreshape',\n",
       "  <function pandas.core.reshape.melt.lreshape(data, groups, dropna=True, label=None)>),\n",
       " ('match', <function pandas.core.api.match(*args, **kwargs)>),\n",
       " ('melt',\n",
       "  <function pandas.core.reshape.melt.melt(frame, id_vars=None, value_vars=None, var_name=None, value_name='value', col_level=None)>),\n",
       " ('merge',\n",
       "  <function pandas.core.reshape.merge.merge(left, right, how='inner', on=None, left_on=None, right_on=None, left_index=False, right_index=False, sort=False, suffixes=('_x', '_y'), copy=True, indicator=False, validate=None)>),\n",
       " ('merge_asof',\n",
       "  <function pandas.core.reshape.merge.merge_asof(left, right, on=None, left_on=None, right_on=None, left_index=False, right_index=False, by=None, left_by=None, right_by=None, suffixes=('_x', '_y'), tolerance=None, allow_exact_matches=True, direction='backward')>),\n",
       " ('merge_ordered',\n",
       "  <function pandas.core.reshape.merge.merge_ordered(left, right, on=None, left_on=None, right_on=None, left_by=None, right_by=None, fill_method=None, suffixes=('_x', '_y'), how='outer')>),\n",
       " ('notna', <function pandas.core.dtypes.missing.notna(obj)>),\n",
       " ('notnull', <function pandas.core.dtypes.missing.notna(obj)>),\n",
       " ('period_range',\n",
       "  <function pandas.core.indexes.period.period_range(start=None, end=None, periods=None, freq='D', name=None)>),\n",
       " ('pivot',\n",
       "  <function pandas.core.reshape.reshape.pivot_simple(index, columns, values)>),\n",
       " ('pivot_table',\n",
       "  <function pandas.core.reshape.pivot.pivot_table(data, values=None, index=None, columns=None, aggfunc='mean', fill_value=None, margins=False, dropna=True, margins_name='All')>),\n",
       " ('pnow', <function pandas.core.indexes.period.pnow(freq=None)>),\n",
       " ('qcut',\n",
       "  <function pandas.core.reshape.tile.qcut(x, q, labels=None, retbins=False, precision=3, duplicates='raise')>),\n",
       " ('read_clipboard',\n",
       "  <function pandas.io.clipboards.read_clipboard(sep='\\\\s+', **kwargs)>),\n",
       " ('read_csv',\n",
       "  <function pandas.io.parsers._make_parser_function.<locals>.parser_f(filepath_or_buffer, sep=',', delimiter=None, header='infer', names=None, index_col=None, usecols=None, squeeze=False, prefix=None, mangle_dupe_cols=True, dtype=None, engine=None, converters=None, true_values=None, false_values=None, skipinitialspace=False, skiprows=None, nrows=None, na_values=None, keep_default_na=True, na_filter=True, verbose=False, skip_blank_lines=True, parse_dates=False, infer_datetime_format=False, keep_date_col=False, date_parser=None, dayfirst=False, iterator=False, chunksize=None, compression='infer', thousands=None, decimal=b'.', lineterminator=None, quotechar='\"', quoting=0, escapechar=None, comment=None, encoding=None, dialect=None, tupleize_cols=None, error_bad_lines=True, warn_bad_lines=True, skipfooter=0, doublequote=True, delim_whitespace=False, low_memory=True, memory_map=False, float_precision=None)>),\n",
       " ('read_excel',\n",
       "  <function pandas.io.excel.read_excel(io, sheet_name=0, header=0, names=None, index_col=None, usecols=None, squeeze=False, dtype=None, engine=None, converters=None, true_values=None, false_values=None, skiprows=None, nrows=None, na_values=None, parse_dates=False, date_parser=None, thousands=None, comment=None, skipfooter=0, convert_float=True, **kwds)>),\n",
       " ('read_feather',\n",
       "  <function pandas.io.feather_format.read_feather(path, nthreads=1)>),\n",
       " ('read_fwf',\n",
       "  <function pandas.io.parsers.read_fwf(filepath_or_buffer, colspecs='infer', widths=None, **kwds)>),\n",
       " ('read_gbq',\n",
       "  <function pandas.io.gbq.read_gbq(query, project_id=None, index_col=None, col_order=None, reauth=False, verbose=None, private_key=None, dialect='legacy', **kwargs)>),\n",
       " ('read_hdf',\n",
       "  <function pandas.io.pytables.read_hdf(path_or_buf, key=None, mode='r', **kwargs)>),\n",
       " ('read_html',\n",
       "  <function pandas.io.html.read_html(io, match='.+', flavor=None, header=None, index_col=None, skiprows=None, attrs=None, parse_dates=False, tupleize_cols=None, thousands=',', encoding=None, decimal='.', converters=None, na_values=None, keep_default_na=True, displayed_only=True)>),\n",
       " ('read_json',\n",
       "  <function pandas.io.json.json.read_json(path_or_buf=None, orient=None, typ='frame', dtype=True, convert_axes=True, convert_dates=True, keep_default_dates=True, numpy=False, precise_float=False, date_unit=None, encoding=None, lines=False, chunksize=None, compression='infer')>),\n",
       " ('read_msgpack',\n",
       "  <function pandas.io.packers.read_msgpack(path_or_buf, encoding='utf-8', iterator=False, **kwargs)>),\n",
       " ('read_parquet',\n",
       "  <function pandas.io.parquet.read_parquet(path, engine='auto', columns=None, **kwargs)>),\n",
       " ('read_pickle',\n",
       "  <function pandas.io.pickle.read_pickle(path, compression='infer')>),\n",
       " ('read_sas',\n",
       "  <function pandas.io.sas.sasreader.read_sas(filepath_or_buffer, format=None, index=None, encoding=None, chunksize=None, iterator=False)>),\n",
       " ('read_sql',\n",
       "  <function pandas.io.sql.read_sql(sql, con, index_col=None, coerce_float=True, params=None, parse_dates=None, columns=None, chunksize=None)>),\n",
       " ('read_sql_query',\n",
       "  <function pandas.io.sql.read_sql_query(sql, con, index_col=None, coerce_float=True, params=None, parse_dates=None, chunksize=None)>),\n",
       " ('read_sql_table',\n",
       "  <function pandas.io.sql.read_sql_table(table_name, con, schema=None, index_col=None, coerce_float=True, parse_dates=None, columns=None, chunksize=None)>),\n",
       " ('read_stata',\n",
       "  <function pandas.io.stata.read_stata(filepath_or_buffer, convert_dates=True, convert_categoricals=True, encoding=None, index_col=None, convert_missing=False, preserve_dtypes=True, columns=None, order_categoricals=True, chunksize=None, iterator=False)>),\n",
       " ('read_table',\n",
       "  <function pandas.io.parsers._make_parser_function.<locals>.parser_f(filepath_or_buffer, sep='\\t', delimiter=None, header='infer', names=None, index_col=None, usecols=None, squeeze=False, prefix=None, mangle_dupe_cols=True, dtype=None, engine=None, converters=None, true_values=None, false_values=None, skipinitialspace=False, skiprows=None, nrows=None, na_values=None, keep_default_na=True, na_filter=True, verbose=False, skip_blank_lines=True, parse_dates=False, infer_datetime_format=False, keep_date_col=False, date_parser=None, dayfirst=False, iterator=False, chunksize=None, compression='infer', thousands=None, decimal=b'.', lineterminator=None, quotechar='\"', quoting=0, escapechar=None, comment=None, encoding=None, dialect=None, tupleize_cols=None, error_bad_lines=True, warn_bad_lines=True, skipfooter=0, doublequote=True, delim_whitespace=False, low_memory=True, memory_map=False, float_precision=None)>),\n",
       " ('scatter_matrix',\n",
       "  <function pandas.plotting._misc.scatter_matrix(frame, alpha=0.5, figsize=None, ax=None, grid=False, diagonal='hist', marker='.', density_kwds=None, hist_kwds=None, range_padding=0.05, **kwds)>),\n",
       " ('set_eng_float_format',\n",
       "  <function pandas.io.formats.format.set_eng_float_format(accuracy=3, use_eng_prefix=False)>),\n",
       " ('show_versions',\n",
       "  <function pandas.util._print_versions.show_versions(as_json=False)>),\n",
       " ('test', <function pandas.util._tester.test(extra_args=None)>),\n",
       " ('timedelta_range',\n",
       "  <function pandas.core.indexes.timedeltas.timedelta_range(start=None, end=None, periods=None, freq=None, name=None, closed=None)>),\n",
       " ('to_datetime',\n",
       "  <function pandas.core.tools.datetimes.to_datetime(arg, errors='raise', dayfirst=False, yearfirst=False, utc=None, box=True, format=None, exact=True, unit=None, infer_datetime_format=False, origin='unix', cache=False)>),\n",
       " ('to_msgpack',\n",
       "  <function pandas.io.packers.to_msgpack(path_or_buf, *args, **kwargs)>),\n",
       " ('to_numeric',\n",
       "  <function pandas.core.tools.numeric.to_numeric(arg, errors='raise', downcast=None)>),\n",
       " ('to_pickle',\n",
       "  <function pandas.io.pickle.to_pickle(obj, path, compression='infer', protocol=4)>),\n",
       " ('to_timedelta',\n",
       "  <function pandas.core.tools.timedeltas.to_timedelta(arg, unit='ns', box=True, errors='raise')>),\n",
       " ('unique', <function pandas.core.algorithms.unique(values)>),\n",
       " ('value_counts',\n",
       "  <function pandas.core.algorithms.value_counts(values, sort=True, ascending=False, normalize=False, bins=None, dropna=True)>),\n",
       " ('wide_to_long',\n",
       "  <function pandas.core.reshape.melt.wide_to_long(df, stubnames, i, j, sep='', suffix='\\\\d+')>)]"
      ]
     },
     "execution_count": 150,
     "metadata": {},
     "output_type": "execute_result"
    }
   ],
   "source": [
    "# list of functions\n",
    "[i for i in inspect.getmembers(pandas) if inspect.isfunction(i[1]) and not i[0][0] == '_']"
   ]
  },
  {
   "cell_type": "code",
   "execution_count": 153,
   "metadata": {},
   "outputs": [],
   "source": [
    "# navegar dentro de una clase"
   ]
  },
  {
   "cell_type": "code",
   "execution_count": 154,
   "metadata": {},
   "outputs": [],
   "source": [
    "# recursividad (clase recursiva)\n",
    "class H():\n",
    "    def __init__():\n",
    "        self.node = None\n",
    "    def run(self):\n",
    "        self.node = H()"
   ]
  },
  {
   "cell_type": "code",
   "execution_count": 155,
   "metadata": {},
   "outputs": [],
   "source": [
    "# guardar informacion (networkx, diccionarios, classes)"
   ]
  },
  {
   "cell_type": "code",
   "execution_count": 156,
   "metadata": {},
   "outputs": [],
   "source": [
    "# busqueda por palabra clave"
   ]
  },
  {
   "cell_type": "code",
   "execution_count": null,
   "metadata": {},
   "outputs": [],
   "source": []
  }
 ],
 "metadata": {
  "kernelspec": {
   "display_name": "Python 3",
   "language": "python",
   "name": "python3"
  },
  "language_info": {
   "codemirror_mode": {
    "name": "ipython",
    "version": 3
   },
   "file_extension": ".py",
   "mimetype": "text/x-python",
   "name": "python",
   "nbconvert_exporter": "python",
   "pygments_lexer": "ipython3",
   "version": "3.7.1"
  }
 },
 "nbformat": 4,
 "nbformat_minor": 4
}
